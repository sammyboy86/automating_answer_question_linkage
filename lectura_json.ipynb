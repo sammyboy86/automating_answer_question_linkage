{
 "cells": [
  {
   "cell_type": "code",
   "execution_count": 1,
   "metadata": {},
   "outputs": [],
   "source": [
    "import json \n",
    "import pandas as pd \n",
    "import numpy as np\n",
    "import re\n",
    "\n",
    "pd.set_option('display.max_colwidth', None)\n",
    "pd.options.mode.chained_assignment = None"
   ]
  },
  {
   "cell_type": "code",
   "execution_count": 2,
   "metadata": {},
   "outputs": [],
   "source": [
    "df = pd.read_json('data\\\\raw\\\\train-v2.0.json')"
   ]
  },
  {
   "cell_type": "code",
   "execution_count": 3,
   "metadata": {},
   "outputs": [],
   "source": [
    "df_1 = pd.json_normalize(data=df['data'], record_path=['paragraphs'])"
   ]
  },
  {
   "cell_type": "code",
   "execution_count": 5,
   "metadata": {},
   "outputs": [],
   "source": [
    "#create dataframe with columns of interest\n",
    "\n",
    "df_2 = pd.DataFrame(columns=['question','plausible_answers','answers','context'])\n",
    "\n",
    "for i in range(df_1.shape[0]):\n",
    "    a = pd.DataFrame(df_1.iloc[i,0])\n",
    "    a['context'] = df_1.iloc[i,1]\n",
    "    try:\n",
    "        a= a[['plausible_answers','answers','question','context']]\n",
    "    except:\n",
    "        a= a[['answers','question','context']]\n",
    "\n",
    "    df_2=pd.concat([df_2,a])\n",
    "\n",
    "    \n",
    "    "
   ]
  },
  {
   "cell_type": "code",
   "execution_count": 6,
   "metadata": {},
   "outputs": [],
   "source": [
    "#separate by certainty\n",
    "\n",
    "df_certain = df_2.loc[df_2['plausible_answers'].isna()]\n",
    "df_uncertain = df_2.loc[df_2['plausible_answers'].notna()]"
   ]
  },
  {
   "cell_type": "code",
   "execution_count": 7,
   "metadata": {},
   "outputs": [],
   "source": [
    "#get answer position\n",
    "\n",
    "def get_pos_ans(texto):\n",
    "    return int(re.findall('(\\d+)(?!.*\\d)', texto)[0])\n",
    "\n",
    "df_certain['answers']=df_certain['answers'].astype(str).apply(get_pos_ans)\n",
    "df_uncertain['plausible_answers']=df_uncertain['plausible_answers'].astype(str).apply(get_pos_ans)"
   ]
  },
  {
   "cell_type": "code",
   "execution_count": 8,
   "metadata": {},
   "outputs": [],
   "source": [
    "#insert answer flag\n",
    "df_certain[\"context\"] = [(t[:s] + '°' + t[s:]) for s, t in zip(df_certain[\"answers\"], df_certain[\"context\"])]\n",
    "df_uncertain[\"context\"] = [(t[:s] + '°' + t[s:]) for s, t in zip(df_uncertain[\"plausible_answers\"], df_uncertain[\"context\"])]\n"
   ]
  },
  {
   "cell_type": "code",
   "execution_count": 9,
   "metadata": {},
   "outputs": [],
   "source": [
    "#removing unnecessary columns\n",
    "df_certain = df_certain[['question','context']]\n",
    "df_uncertain = df_uncertain[['question','context']]"
   ]
  },
  {
   "cell_type": "code",
   "execution_count": null,
   "metadata": {},
   "outputs": [],
   "source": [
    "#text pre-processing\n",
    "\n",
    "#read stopwords\n",
    "\n",
    "file1 = open('data\\\\raw\\\\stopwords.csv', 'r')\n",
    "stopwords_txt = file1.read().splitlines()\n",
    "stopwords = []\n",
    "\n",
    "for word in stopwords_txt:\n",
    "    stopwords.append(word)\n",
    "\n",
    "def limpieza(texto):\n",
    "    \n",
    "    #lower\n",
    "    salida=texto.lower()\n",
    "    \n",
    "    #remove stopwords\n",
    "    remove = '|'.join(stopwords)\n",
    "    regex = re.compile(r'\\b('+remove+r')\\b', flags=re.IGNORECASE)\n",
    "    salida = regex.sub(\"\", salida)\n",
    "\n",
    "    #remove unnecessary punctuation (will affect word matching)\n",
    "    regex = r\"[^\\s\\w\\d\\.\\°]\" \n",
    "    salida = re.sub(regex, '', salida)\n",
    "\n",
    "    \n",
    "\n",
    "    return salida\n",
    "\n",
    "\n",
    "\n",
    "\n",
    "df_certain['context']=df_certain['context'].apply(limpieza)\n",
    "df_uncertain['context']=df_uncertain['context'].apply(limpieza)\n",
    "df_certain['question']=df_certain['question'].apply(limpieza)\n",
    "df_uncertain['question']=df_uncertain['question'].apply(limpieza)\n"
   ]
  },
  {
   "cell_type": "code",
   "execution_count": null,
   "metadata": {},
   "outputs": [],
   "source": [
    "#split into sentences\n",
    "def spliteo(texto):\n",
    "\n",
    "    salida=texto.split(sep='.')\n",
    "\n",
    "    return salida\n",
    "\n",
    "\n",
    "df_certain['context']=df_certain['context'].apply(spliteo)\n",
    "df_uncertain['context']=df_uncertain['context'].apply(spliteo)"
   ]
  },
  {
   "cell_type": "code",
   "execution_count": 15,
   "metadata": {},
   "outputs": [],
   "source": [
    "#unnest\n",
    "df_certain=df_certain.explode('context')\n",
    "df_uncertain=df_certain.explode('context')"
   ]
  },
  {
   "cell_type": "code",
   "execution_count": 16,
   "metadata": {},
   "outputs": [],
   "source": [
    "#reading flag, eliminating flag\n",
    "df_certain['res']=0\n",
    "df_uncertain['res']=0\n",
    "\n",
    "df_certain.loc[df_certain['context'].str.contains('°'),'res']=1\n",
    "df_certain['context']=df_certain['context'].str.replace('°', '')\n",
    "df_uncertain.loc[df_uncertain['context'].str.contains('°'),'res']=1\n",
    "df_uncertain['context']=df_uncertain['context'].str.replace('°', '')"
   ]
  },
  {
   "cell_type": "code",
   "execution_count": 17,
   "metadata": {},
   "outputs": [],
   "source": [
    "#strings to string lists\n",
    "\n",
    "df_certain['context']=df_certain['context'].str.split(\" \")\n",
    "df_uncertain['context']=df_certain['context'].str.split(\" \")"
   ]
  },
  {
   "cell_type": "code",
   "execution_count": 19,
   "metadata": {},
   "outputs": [],
   "source": [
    "df_certain['question']=df_certain['question'].str.split(\" \")\n",
    "df_uncertain['question']=df_certain['question'].str.split(\" \")"
   ]
  },
  {
   "cell_type": "code",
   "execution_count": 20,
   "metadata": {},
   "outputs": [],
   "source": [
    "#jaccard\n",
    "df_certain[\"jaccard\"] = [(len(list(set(s) & set(t)))/len(list(set(s) | set(t)))) for s, t in zip(df_certain[\"question\"], df_certain[\"context\"])]\n",
    "df_uncertain[\"jaccard\"] = [(len(list(set(s) & set(t)))/len(list(set(s) | set(t)))) for s, t in zip(df_certain[\"question\"], df_certain[\"context\"])]"
   ]
  },
  {
   "cell_type": "code",
   "execution_count": 21,
   "metadata": {},
   "outputs": [],
   "source": [
    "#removing unnecesary column\n",
    "df_train_certain = df_certain[['res','jaccard']]\n",
    "df_train_uncertain = df_uncertain[['res','jaccard']]"
   ]
  },
  {
   "cell_type": "code",
   "execution_count": 22,
   "metadata": {},
   "outputs": [],
   "source": [
    "#export\n",
    "df_train_certain.to_csv(r'data/results/df_train_certain.csv')\n",
    "df_train_uncertain.to_csv(r'data/results/df_train_uncertain.csv')"
   ]
  }
 ],
 "metadata": {
  "kernelspec": {
   "display_name": "Python 3",
   "language": "python",
   "name": "python3"
  },
  "language_info": {
   "codemirror_mode": {
    "name": "ipython",
    "version": 3
   },
   "file_extension": ".py",
   "mimetype": "text/x-python",
   "name": "python",
   "nbconvert_exporter": "python",
   "pygments_lexer": "ipython3",
   "version": "3.8.8"
  },
  "vscode": {
   "interpreter": {
    "hash": "9c639177393afa48c9c0f1547a9d06189085e6bb414f529bed3b8d9a28ec4e3c"
   }
  }
 },
 "nbformat": 4,
 "nbformat_minor": 2
}
